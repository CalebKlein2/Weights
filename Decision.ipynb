{
  "nbformat": 4,
  "nbformat_minor": 0,
  "metadata": {
    "colab": {
      "provenance": []
    },
    "kernelspec": {
      "name": "python3",
      "display_name": "Python 3"
    },
    "language_info": {
      "name": "python"
    }
  },
  "cells": [
    {
      "cell_type": "code",
      "execution_count": 1,
      "metadata": {
        "id": "RoRCIhpayW6Z"
      },
      "outputs": [],
      "source": [
        "import pandas as pd"
      ]
    },
    {
      "cell_type": "code",
      "source": [
        "import numpy as np"
      ],
      "metadata": {
        "id": "DLH03DPby_yB"
      },
      "execution_count": 2,
      "outputs": []
    },
    {
      "cell_type": "code",
      "source": [
        "from sklearn.model_selection import train_test_split"
      ],
      "metadata": {
        "id": "3IMCX9YizDrP"
      },
      "execution_count": 3,
      "outputs": []
    },
    {
      "cell_type": "code",
      "source": [
        "from sklearn.tree import DecisionTreeClassifier"
      ],
      "metadata": {
        "id": "lIlX4i-1zF74"
      },
      "execution_count": 4,
      "outputs": []
    },
    {
      "cell_type": "code",
      "source": [
        "from sklearn.metrics import confusion_matrix, classification_report, accuracy_score"
      ],
      "metadata": {
        "id": "ju8suOEpzI8U"
      },
      "execution_count": 5,
      "outputs": []
    },
    {
      "cell_type": "code",
      "source": [
        "from sklearn import tree"
      ],
      "metadata": {
        "id": "cZVkPvqnzMHK"
      },
      "execution_count": 6,
      "outputs": []
    },
    {
      "cell_type": "code",
      "source": [
        "import matplotlib.pyplot as plt"
      ],
      "metadata": {
        "id": "59oV6_5KzOhB"
      },
      "execution_count": 7,
      "outputs": []
    },
    {
      "cell_type": "code",
      "source": [
        "data=pd.read_csv(\"/content/dataset_phishing.csv\")"
      ],
      "metadata": {
        "id": "kb5gEhl_zPd-"
      },
      "execution_count": 8,
      "outputs": []
    },
    {
      "cell_type": "code",
      "source": [
        "print(data.head())"
      ],
      "metadata": {
        "colab": {
          "base_uri": "https://localhost:8080/"
        },
        "id": "ZceMu9CizbCw",
        "outputId": "0fa8e83d-d32b-4bf8-afd1-7845ef4d2cad"
      },
      "execution_count": 9,
      "outputs": [
        {
          "output_type": "stream",
          "name": "stdout",
          "text": [
            "                                                 url  length_url  \\\n",
            "0              http://www.crestonwood.com/router.php          37   \n",
            "1  http://shadetreetechnology.com/V4/validation/a...          77   \n",
            "2  https://support-appleld.com.secureupdate.duila...         126   \n",
            "3                                 http://rgipt.ac.in          18   \n",
            "4  http://www.iracing.com/tracks/gateway-motorspo...          55   \n",
            "\n",
            "   length_hostname  ip  nb_dots  nb_hyphens  nb_at  nb_qm  nb_and  nb_or  ...  \\\n",
            "0               19   0        3           0      0      0       0      0  ...   \n",
            "1               23   1        1           0      0      0       0      0  ...   \n",
            "2               50   1        4           1      0      1       2      0  ...   \n",
            "3               11   0        2           0      0      0       0      0  ...   \n",
            "4               15   0        2           2      0      0       0      0  ...   \n",
            "\n",
            "   domain_in_title  domain_with_copyright  whois_registered_domain  \\\n",
            "0                0                      1                        0   \n",
            "1                1                      0                        0   \n",
            "2                1                      0                        0   \n",
            "3                1                      0                        0   \n",
            "4                0                      1                        0   \n",
            "\n",
            "   domain_registration_length  domain_age  web_traffic  dns_record  \\\n",
            "0                          45          -1            0           1   \n",
            "1                          77        5767            0           0   \n",
            "2                          14        4004      5828815           0   \n",
            "3                          62          -1       107721           0   \n",
            "4                         224        8175         8725           0   \n",
            "\n",
            "   google_index  page_rank      status  \n",
            "0             1          4  legitimate  \n",
            "1             1          2    phishing  \n",
            "2             1          0    phishing  \n",
            "3             0          3  legitimate  \n",
            "4             0          6  legitimate  \n",
            "\n",
            "[5 rows x 89 columns]\n"
          ]
        }
      ]
    },
    {
      "cell_type": "code",
      "source": [
        "print(data.describe())"
      ],
      "metadata": {
        "colab": {
          "base_uri": "https://localhost:8080/"
        },
        "id": "LBaBZwn1zhsH",
        "outputId": "31eb39c8-a754-4272-e8ae-bf6c68960e7a"
      },
      "execution_count": 10,
      "outputs": [
        {
          "output_type": "stream",
          "name": "stdout",
          "text": [
            "         length_url  length_hostname            ip       nb_dots  \\\n",
            "count  11430.000000     11430.000000  11430.000000  11430.000000   \n",
            "mean      61.126684        21.090289      0.150569      2.480752   \n",
            "std       55.297318        10.777171      0.357644      1.369686   \n",
            "min       12.000000         4.000000      0.000000      1.000000   \n",
            "25%       33.000000        15.000000      0.000000      2.000000   \n",
            "50%       47.000000        19.000000      0.000000      2.000000   \n",
            "75%       71.000000        24.000000      0.000000      3.000000   \n",
            "max     1641.000000       214.000000      1.000000     24.000000   \n",
            "\n",
            "         nb_hyphens         nb_at         nb_qm        nb_and    nb_or  \\\n",
            "count  11430.000000  11430.000000  11430.000000  11430.000000  11430.0   \n",
            "mean       0.997550      0.022222      0.141207      0.162292      0.0   \n",
            "std        2.087087      0.155500      0.364456      0.821337      0.0   \n",
            "min        0.000000      0.000000      0.000000      0.000000      0.0   \n",
            "25%        0.000000      0.000000      0.000000      0.000000      0.0   \n",
            "50%        0.000000      0.000000      0.000000      0.000000      0.0   \n",
            "75%        1.000000      0.000000      0.000000      0.000000      0.0   \n",
            "max       43.000000      4.000000      3.000000     19.000000      0.0   \n",
            "\n",
            "              nb_eq  ...   empty_title  domain_in_title  \\\n",
            "count  11430.000000  ...  11430.000000     11430.000000   \n",
            "mean       0.293176  ...      0.124759         0.775853   \n",
            "std        0.998317  ...      0.330460         0.417038   \n",
            "min        0.000000  ...      0.000000         0.000000   \n",
            "25%        0.000000  ...      0.000000         1.000000   \n",
            "50%        0.000000  ...      0.000000         1.000000   \n",
            "75%        0.000000  ...      0.000000         1.000000   \n",
            "max       19.000000  ...      1.000000         1.000000   \n",
            "\n",
            "       domain_with_copyright  whois_registered_domain  \\\n",
            "count           11430.000000             11430.000000   \n",
            "mean                0.439545                 0.072878   \n",
            "std                 0.496353                 0.259948   \n",
            "min                 0.000000                 0.000000   \n",
            "25%                 0.000000                 0.000000   \n",
            "50%                 0.000000                 0.000000   \n",
            "75%                 1.000000                 0.000000   \n",
            "max                 1.000000                 1.000000   \n",
            "\n",
            "       domain_registration_length    domain_age   web_traffic    dns_record  \\\n",
            "count                11430.000000  11430.000000  1.143000e+04  11430.000000   \n",
            "mean                   492.532196   4062.543745  8.567566e+05      0.020122   \n",
            "std                    814.769415   3107.784600  1.995606e+06      0.140425   \n",
            "min                     -1.000000    -12.000000  0.000000e+00      0.000000   \n",
            "25%                     84.000000    972.250000  0.000000e+00      0.000000   \n",
            "50%                    242.000000   3993.000000  1.651000e+03      0.000000   \n",
            "75%                    449.000000   7026.750000  3.738455e+05      0.000000   \n",
            "max                  29829.000000  12874.000000  1.076799e+07      1.000000   \n",
            "\n",
            "       google_index     page_rank  \n",
            "count  11430.000000  11430.000000  \n",
            "mean       0.533946      3.185739  \n",
            "std        0.498868      2.536955  \n",
            "min        0.000000      0.000000  \n",
            "25%        0.000000      1.000000  \n",
            "50%        1.000000      3.000000  \n",
            "75%        1.000000      5.000000  \n",
            "max        1.000000     10.000000  \n",
            "\n",
            "[8 rows x 87 columns]\n"
          ]
        }
      ]
    },
    {
      "cell_type": "code",
      "source": [
        "print(data.info())"
      ],
      "metadata": {
        "colab": {
          "base_uri": "https://localhost:8080/"
        },
        "id": "9zUabq_3zkeP",
        "outputId": "15c8b416-a2b4-4c56-aa1d-fefb7a4e6710"
      },
      "execution_count": 11,
      "outputs": [
        {
          "output_type": "stream",
          "name": "stdout",
          "text": [
            "<class 'pandas.core.frame.DataFrame'>\n",
            "RangeIndex: 11430 entries, 0 to 11429\n",
            "Data columns (total 89 columns):\n",
            " #   Column                      Non-Null Count  Dtype  \n",
            "---  ------                      --------------  -----  \n",
            " 0   url                         11430 non-null  object \n",
            " 1   length_url                  11430 non-null  int64  \n",
            " 2   length_hostname             11430 non-null  int64  \n",
            " 3   ip                          11430 non-null  int64  \n",
            " 4   nb_dots                     11430 non-null  int64  \n",
            " 5   nb_hyphens                  11430 non-null  int64  \n",
            " 6   nb_at                       11430 non-null  int64  \n",
            " 7   nb_qm                       11430 non-null  int64  \n",
            " 8   nb_and                      11430 non-null  int64  \n",
            " 9   nb_or                       11430 non-null  int64  \n",
            " 10  nb_eq                       11430 non-null  int64  \n",
            " 11  nb_underscore               11430 non-null  int64  \n",
            " 12  nb_tilde                    11430 non-null  int64  \n",
            " 13  nb_percent                  11430 non-null  int64  \n",
            " 14  nb_slash                    11430 non-null  int64  \n",
            " 15  nb_star                     11430 non-null  int64  \n",
            " 16  nb_colon                    11430 non-null  int64  \n",
            " 17  nb_comma                    11430 non-null  int64  \n",
            " 18  nb_semicolumn               11430 non-null  int64  \n",
            " 19  nb_dollar                   11430 non-null  int64  \n",
            " 20  nb_space                    11430 non-null  int64  \n",
            " 21  nb_www                      11430 non-null  int64  \n",
            " 22  nb_com                      11430 non-null  int64  \n",
            " 23  nb_dslash                   11430 non-null  int64  \n",
            " 24  http_in_path                11430 non-null  int64  \n",
            " 25  https_token                 11430 non-null  int64  \n",
            " 26  ratio_digits_url            11430 non-null  float64\n",
            " 27  ratio_digits_host           11430 non-null  float64\n",
            " 28  punycode                    11430 non-null  int64  \n",
            " 29  port                        11430 non-null  int64  \n",
            " 30  tld_in_path                 11430 non-null  int64  \n",
            " 31  tld_in_subdomain            11430 non-null  int64  \n",
            " 32  abnormal_subdomain          11430 non-null  int64  \n",
            " 33  nb_subdomains               11430 non-null  int64  \n",
            " 34  prefix_suffix               11430 non-null  int64  \n",
            " 35  random_domain               11430 non-null  int64  \n",
            " 36  shortening_service          11430 non-null  int64  \n",
            " 37  path_extension              11430 non-null  int64  \n",
            " 38  nb_redirection              11430 non-null  int64  \n",
            " 39  nb_external_redirection     11430 non-null  int64  \n",
            " 40  length_words_raw            11430 non-null  int64  \n",
            " 41  char_repeat                 11430 non-null  int64  \n",
            " 42  shortest_words_raw          11430 non-null  int64  \n",
            " 43  shortest_word_host          11430 non-null  int64  \n",
            " 44  shortest_word_path          11430 non-null  int64  \n",
            " 45  longest_words_raw           11430 non-null  int64  \n",
            " 46  longest_word_host           11430 non-null  int64  \n",
            " 47  longest_word_path           11430 non-null  int64  \n",
            " 48  avg_words_raw               11430 non-null  float64\n",
            " 49  avg_word_host               11430 non-null  float64\n",
            " 50  avg_word_path               11430 non-null  float64\n",
            " 51  phish_hints                 11430 non-null  int64  \n",
            " 52  domain_in_brand             11430 non-null  int64  \n",
            " 53  brand_in_subdomain          11430 non-null  int64  \n",
            " 54  brand_in_path               11430 non-null  int64  \n",
            " 55  suspecious_tld              11430 non-null  int64  \n",
            " 56  statistical_report          11430 non-null  int64  \n",
            " 57  nb_hyperlinks               11430 non-null  int64  \n",
            " 58  ratio_intHyperlinks         11430 non-null  float64\n",
            " 59  ratio_extHyperlinks         11430 non-null  float64\n",
            " 60  ratio_nullHyperlinks        11430 non-null  int64  \n",
            " 61  nb_extCSS                   11430 non-null  int64  \n",
            " 62  ratio_intRedirection        11430 non-null  int64  \n",
            " 63  ratio_extRedirection        11430 non-null  float64\n",
            " 64  ratio_intErrors             11430 non-null  int64  \n",
            " 65  ratio_extErrors             11430 non-null  float64\n",
            " 66  login_form                  11430 non-null  int64  \n",
            " 67  external_favicon            11430 non-null  int64  \n",
            " 68  links_in_tags               11430 non-null  float64\n",
            " 69  submit_email                11430 non-null  int64  \n",
            " 70  ratio_intMedia              11430 non-null  float64\n",
            " 71  ratio_extMedia              11430 non-null  float64\n",
            " 72  sfh                         11430 non-null  int64  \n",
            " 73  iframe                      11430 non-null  int64  \n",
            " 74  popup_window                11430 non-null  int64  \n",
            " 75  safe_anchor                 11430 non-null  float64\n",
            " 76  onmouseover                 11430 non-null  int64  \n",
            " 77  right_clic                  11430 non-null  int64  \n",
            " 78  empty_title                 11430 non-null  int64  \n",
            " 79  domain_in_title             11430 non-null  int64  \n",
            " 80  domain_with_copyright       11430 non-null  int64  \n",
            " 81  whois_registered_domain     11430 non-null  int64  \n",
            " 82  domain_registration_length  11430 non-null  int64  \n",
            " 83  domain_age                  11430 non-null  int64  \n",
            " 84  web_traffic                 11430 non-null  int64  \n",
            " 85  dns_record                  11430 non-null  int64  \n",
            " 86  google_index                11430 non-null  int64  \n",
            " 87  page_rank                   11430 non-null  int64  \n",
            " 88  status                      11430 non-null  object \n",
            "dtypes: float64(13), int64(74), object(2)\n",
            "memory usage: 7.8+ MB\n",
            "None\n"
          ]
        }
      ]
    },
    {
      "cell_type": "code",
      "source": [
        "target = 'length_url'"
      ],
      "metadata": {
        "id": "UNFBDI3MzlP2"
      },
      "execution_count": 18,
      "outputs": []
    },
    {
      "cell_type": "code",
      "source": [
        "features = data.drop(columns=[target]).columns"
      ],
      "metadata": {
        "id": "yGp0jSPez1fE"
      },
      "execution_count": 19,
      "outputs": []
    },
    {
      "cell_type": "code",
      "source": [
        "X = data[features]"
      ],
      "metadata": {
        "id": "y48xswImz3j6"
      },
      "execution_count": 20,
      "outputs": []
    },
    {
      "cell_type": "code",
      "source": [
        "y = data[target]"
      ],
      "metadata": {
        "id": "LrJZljMqz51m"
      },
      "execution_count": 23,
      "outputs": []
    },
    {
      "cell_type": "code",
      "source": [
        "X_train, X_test, y_train, y_test=train_test_split(data.length_hostname.values.reshape(-1,1), data.nb_qm.values, random_state=42)"
      ],
      "metadata": {
        "id": "D1FR4eIg0DiE"
      },
      "execution_count": 24,
      "outputs": []
    },
    {
      "cell_type": "code",
      "source": [
        "model = DecisionTreeClassifier(random_state=42)"
      ],
      "metadata": {
        "id": "MvxJEnNb0HTs"
      },
      "execution_count": 25,
      "outputs": []
    },
    {
      "cell_type": "code",
      "source": [
        "model.fit(X_train, y_train)"
      ],
      "metadata": {
        "colab": {
          "base_uri": "https://localhost:8080/",
          "height": 74
        },
        "id": "HbyL-S4g0KY4",
        "outputId": "9b856270-9af5-46e6-ac03-38085559241f"
      },
      "execution_count": 26,
      "outputs": [
        {
          "output_type": "execute_result",
          "data": {
            "text/plain": [
              "DecisionTreeClassifier(random_state=42)"
            ],
            "text/html": [
              "<style>#sk-container-id-1 {color: black;background-color: white;}#sk-container-id-1 pre{padding: 0;}#sk-container-id-1 div.sk-toggleable {background-color: white;}#sk-container-id-1 label.sk-toggleable__label {cursor: pointer;display: block;width: 100%;margin-bottom: 0;padding: 0.3em;box-sizing: border-box;text-align: center;}#sk-container-id-1 label.sk-toggleable__label-arrow:before {content: \"▸\";float: left;margin-right: 0.25em;color: #696969;}#sk-container-id-1 label.sk-toggleable__label-arrow:hover:before {color: black;}#sk-container-id-1 div.sk-estimator:hover label.sk-toggleable__label-arrow:before {color: black;}#sk-container-id-1 div.sk-toggleable__content {max-height: 0;max-width: 0;overflow: hidden;text-align: left;background-color: #f0f8ff;}#sk-container-id-1 div.sk-toggleable__content pre {margin: 0.2em;color: black;border-radius: 0.25em;background-color: #f0f8ff;}#sk-container-id-1 input.sk-toggleable__control:checked~div.sk-toggleable__content {max-height: 200px;max-width: 100%;overflow: auto;}#sk-container-id-1 input.sk-toggleable__control:checked~label.sk-toggleable__label-arrow:before {content: \"▾\";}#sk-container-id-1 div.sk-estimator input.sk-toggleable__control:checked~label.sk-toggleable__label {background-color: #d4ebff;}#sk-container-id-1 div.sk-label input.sk-toggleable__control:checked~label.sk-toggleable__label {background-color: #d4ebff;}#sk-container-id-1 input.sk-hidden--visually {border: 0;clip: rect(1px 1px 1px 1px);clip: rect(1px, 1px, 1px, 1px);height: 1px;margin: -1px;overflow: hidden;padding: 0;position: absolute;width: 1px;}#sk-container-id-1 div.sk-estimator {font-family: monospace;background-color: #f0f8ff;border: 1px dotted black;border-radius: 0.25em;box-sizing: border-box;margin-bottom: 0.5em;}#sk-container-id-1 div.sk-estimator:hover {background-color: #d4ebff;}#sk-container-id-1 div.sk-parallel-item::after {content: \"\";width: 100%;border-bottom: 1px solid gray;flex-grow: 1;}#sk-container-id-1 div.sk-label:hover label.sk-toggleable__label {background-color: #d4ebff;}#sk-container-id-1 div.sk-serial::before {content: \"\";position: absolute;border-left: 1px solid gray;box-sizing: border-box;top: 0;bottom: 0;left: 50%;z-index: 0;}#sk-container-id-1 div.sk-serial {display: flex;flex-direction: column;align-items: center;background-color: white;padding-right: 0.2em;padding-left: 0.2em;position: relative;}#sk-container-id-1 div.sk-item {position: relative;z-index: 1;}#sk-container-id-1 div.sk-parallel {display: flex;align-items: stretch;justify-content: center;background-color: white;position: relative;}#sk-container-id-1 div.sk-item::before, #sk-container-id-1 div.sk-parallel-item::before {content: \"\";position: absolute;border-left: 1px solid gray;box-sizing: border-box;top: 0;bottom: 0;left: 50%;z-index: -1;}#sk-container-id-1 div.sk-parallel-item {display: flex;flex-direction: column;z-index: 1;position: relative;background-color: white;}#sk-container-id-1 div.sk-parallel-item:first-child::after {align-self: flex-end;width: 50%;}#sk-container-id-1 div.sk-parallel-item:last-child::after {align-self: flex-start;width: 50%;}#sk-container-id-1 div.sk-parallel-item:only-child::after {width: 0;}#sk-container-id-1 div.sk-dashed-wrapped {border: 1px dashed gray;margin: 0 0.4em 0.5em 0.4em;box-sizing: border-box;padding-bottom: 0.4em;background-color: white;}#sk-container-id-1 div.sk-label label {font-family: monospace;font-weight: bold;display: inline-block;line-height: 1.2em;}#sk-container-id-1 div.sk-label-container {text-align: center;}#sk-container-id-1 div.sk-container {/* jupyter's `normalize.less` sets `[hidden] { display: none; }` but bootstrap.min.css set `[hidden] { display: none !important; }` so we also need the `!important` here to be able to override the default hidden behavior on the sphinx rendered scikit-learn.org. See: https://github.com/scikit-learn/scikit-learn/issues/21755 */display: inline-block !important;position: relative;}#sk-container-id-1 div.sk-text-repr-fallback {display: none;}</style><div id=\"sk-container-id-1\" class=\"sk-top-container\"><div class=\"sk-text-repr-fallback\"><pre>DecisionTreeClassifier(random_state=42)</pre><b>In a Jupyter environment, please rerun this cell to show the HTML representation or trust the notebook. <br />On GitHub, the HTML representation is unable to render, please try loading this page with nbviewer.org.</b></div><div class=\"sk-container\" hidden><div class=\"sk-item\"><div class=\"sk-estimator sk-toggleable\"><input class=\"sk-toggleable__control sk-hidden--visually\" id=\"sk-estimator-id-1\" type=\"checkbox\" checked><label for=\"sk-estimator-id-1\" class=\"sk-toggleable__label sk-toggleable__label-arrow\">DecisionTreeClassifier</label><div class=\"sk-toggleable__content\"><pre>DecisionTreeClassifier(random_state=42)</pre></div></div></div></div></div>"
            ]
          },
          "metadata": {},
          "execution_count": 26
        }
      ]
    },
    {
      "cell_type": "code",
      "source": [
        "y_pred = model.predict(X_test)"
      ],
      "metadata": {
        "id": "vhaAR8bL0PV6"
      },
      "execution_count": 27,
      "outputs": []
    },
    {
      "cell_type": "code",
      "source": [
        "accuracy = accuracy_score(y_test, y_pred)"
      ],
      "metadata": {
        "id": "GJoJPXWb0SLi"
      },
      "execution_count": 28,
      "outputs": []
    },
    {
      "cell_type": "code",
      "source": [
        "print(\"Accuracy:\", accuracy)"
      ],
      "metadata": {
        "colab": {
          "base_uri": "https://localhost:8080/"
        },
        "id": "96Gn8tmb0VOM",
        "outputId": "78e56689-a34b-44f1-8ea9-2e650b7809c4"
      },
      "execution_count": 29,
      "outputs": [
        {
          "output_type": "stream",
          "name": "stdout",
          "text": [
            "Accuracy: 0.883484954513646\n"
          ]
        }
      ]
    },
    {
      "cell_type": "code",
      "source": [
        "conf_matrix = confusion_matrix(y_test, y_pred)"
      ],
      "metadata": {
        "id": "uyZRteZN0WBr"
      },
      "execution_count": 30,
      "outputs": []
    },
    {
      "cell_type": "code",
      "source": [
        "print(\"Confusion Matrix:\\n\", conf_matrix)"
      ],
      "metadata": {
        "colab": {
          "base_uri": "https://localhost:8080/"
        },
        "id": "X0dkL3Eh0aRI",
        "outputId": "07dd3d3a-6baf-4db0-ca48-da44345bfa7a"
      },
      "execution_count": 31,
      "outputs": [
        {
          "output_type": "stream",
          "name": "stdout",
          "text": [
            "Confusion Matrix:\n",
            " [[2456   14    0    0]\n",
            " [ 304   69    0    0]\n",
            " [  12    0    0    0]\n",
            " [   3    0    0    0]]\n"
          ]
        }
      ]
    },
    {
      "cell_type": "code",
      "source": [
        "class_report = classification_report(y_test, y_pred)"
      ],
      "metadata": {
        "colab": {
          "base_uri": "https://localhost:8080/"
        },
        "id": "lAmycslq0fCT",
        "outputId": "5bd52e11-8211-426a-9b1f-464eea5b451f"
      },
      "execution_count": 32,
      "outputs": [
        {
          "output_type": "stream",
          "name": "stderr",
          "text": [
            "/usr/local/lib/python3.10/dist-packages/sklearn/metrics/_classification.py:1344: UndefinedMetricWarning: Precision and F-score are ill-defined and being set to 0.0 in labels with no predicted samples. Use `zero_division` parameter to control this behavior.\n",
            "  _warn_prf(average, modifier, msg_start, len(result))\n",
            "/usr/local/lib/python3.10/dist-packages/sklearn/metrics/_classification.py:1344: UndefinedMetricWarning: Precision and F-score are ill-defined and being set to 0.0 in labels with no predicted samples. Use `zero_division` parameter to control this behavior.\n",
            "  _warn_prf(average, modifier, msg_start, len(result))\n",
            "/usr/local/lib/python3.10/dist-packages/sklearn/metrics/_classification.py:1344: UndefinedMetricWarning: Precision and F-score are ill-defined and being set to 0.0 in labels with no predicted samples. Use `zero_division` parameter to control this behavior.\n",
            "  _warn_prf(average, modifier, msg_start, len(result))\n"
          ]
        }
      ]
    },
    {
      "cell_type": "code",
      "source": [
        "print(\"Classification Report:\\n\", class_report)"
      ],
      "metadata": {
        "colab": {
          "base_uri": "https://localhost:8080/"
        },
        "id": "cpFtOnQQ0jNX",
        "outputId": "d21e351e-2f2d-49ca-c967-01a3be33a1c9"
      },
      "execution_count": 33,
      "outputs": [
        {
          "output_type": "stream",
          "name": "stdout",
          "text": [
            "Classification Report:\n",
            "               precision    recall  f1-score   support\n",
            "\n",
            "           0       0.89      0.99      0.94      2470\n",
            "           1       0.83      0.18      0.30       373\n",
            "           2       0.00      0.00      0.00        12\n",
            "           3       0.00      0.00      0.00         3\n",
            "\n",
            "    accuracy                           0.88      2858\n",
            "   macro avg       0.43      0.29      0.31      2858\n",
            "weighted avg       0.87      0.88      0.85      2858\n",
            "\n"
          ]
        }
      ]
    },
    {
      "cell_type": "code",
      "source": [
        "plt.figure(figsize=(20,10))"
      ],
      "metadata": {
        "colab": {
          "base_uri": "https://localhost:8080/",
          "height": 52
        },
        "id": "WkydTSXG0ndU",
        "outputId": "a4192436-a33f-4ac0-ce43-1e583371d6ef"
      },
      "execution_count": 34,
      "outputs": [
        {
          "output_type": "execute_result",
          "data": {
            "text/plain": [
              "<Figure size 2000x1000 with 0 Axes>"
            ]
          },
          "metadata": {},
          "execution_count": 34
        },
        {
          "output_type": "display_data",
          "data": {
            "text/plain": [
              "<Figure size 2000x1000 with 0 Axes>"
            ]
          },
          "metadata": {}
        }
      ]
    },
    {
      "cell_type": "code",
      "source": [
        "tree.plot_tree(model, feature_names=features, class_names=['length_url', 'nb_qm'], filled=True)"
      ],
      "metadata": {
        "colab": {
          "base_uri": "https://localhost:8080/",
          "height": 1000
        },
        "id": "JsYiddTR0oOg",
        "outputId": "33cc0a6e-e436-4fce-d315-b5bef5724fc5"
      },
      "execution_count": 35,
      "outputs": [
        {
          "output_type": "execute_result",
          "data": {
            "text/plain": [
              "[Text(0.625, 0.9583333333333334, 'url <= 45.5\\ngini = 0.236\\nsamples = 8572\\nvalue = [7405, 1130, 33, 4]\\nclass = length_url'),\n",
              " Text(0.4287037037037037, 0.875, 'url <= 41.5\\ngini = 0.205\\nsamples = 8246\\nvalue = [7293, 916, 33, 4]\\nclass = length_url'),\n",
              " Text(0.28703703703703703, 0.7916666666666666, 'url <= 17.5\\ngini = 0.201\\nsamples = 8123\\nvalue = [7210, 876, 33, 4]\\nclass = length_url'),\n",
              " Text(0.12962962962962962, 0.7083333333333334, 'url <= 7.5\\ngini = 0.24\\nsamples = 3683\\nvalue = [3175, 483, 23, 2]\\nclass = length_url'),\n",
              " Text(0.05925925925925926, 0.625, 'url <= 5.5\\ngini = 0.355\\nsamples = 133\\nvalue = [104, 24, 5, 0]\\nclass = length_url'),\n",
              " Text(0.02962962962962963, 0.5416666666666666, 'url <= 4.5\\ngini = 0.08\\nsamples = 24\\nvalue = [23, 1, 0, 0]\\nclass = length_url'),\n",
              " Text(0.014814814814814815, 0.4583333333333333, 'gini = 0.0\\nsamples = 11\\nvalue = [11, 0, 0, 0]\\nclass = length_url'),\n",
              " Text(0.044444444444444446, 0.4583333333333333, 'gini = 0.142\\nsamples = 13\\nvalue = [12, 1, 0, 0]\\nclass = length_url'),\n",
              " Text(0.08888888888888889, 0.5416666666666666, 'url <= 6.5\\ngini = 0.401\\nsamples = 109\\nvalue = [81, 23, 5, 0]\\nclass = length_url'),\n",
              " Text(0.07407407407407407, 0.4583333333333333, 'gini = 0.461\\nsamples = 58\\nvalue = [40, 14, 4, 0]\\nclass = length_url'),\n",
              " Text(0.1037037037037037, 0.4583333333333333, 'gini = 0.322\\nsamples = 51\\nvalue = [41, 9, 1, 0]\\nclass = length_url'),\n",
              " Text(0.2, 0.625, 'url <= 11.5\\ngini = 0.235\\nsamples = 3550\\nvalue = [3071, 459, 18, 2]\\nclass = length_url'),\n",
              " Text(0.14814814814814814, 0.5416666666666666, 'url <= 8.5\\ngini = 0.186\\nsamples = 532\\nvalue = [477, 52, 3, 0]\\nclass = length_url'),\n",
              " Text(0.13333333333333333, 0.4583333333333333, 'gini = 0.263\\nsamples = 45\\nvalue = [38, 7, 0, 0]\\nclass = length_url'),\n",
              " Text(0.16296296296296298, 0.4583333333333333, 'url <= 10.5\\ngini = 0.179\\nsamples = 487\\nvalue = [439, 45, 3, 0]\\nclass = length_url'),\n",
              " Text(0.14814814814814814, 0.375, 'url <= 9.5\\ngini = 0.188\\nsamples = 247\\nvalue = [221, 26, 0, 0]\\nclass = length_url'),\n",
              " Text(0.13333333333333333, 0.2916666666666667, 'gini = 0.193\\nsamples = 83\\nvalue = [74, 9, 0, 0]\\nclass = length_url'),\n",
              " Text(0.16296296296296298, 0.2916666666666667, 'gini = 0.186\\nsamples = 164\\nvalue = [147, 17, 0, 0]\\nclass = length_url'),\n",
              " Text(0.17777777777777778, 0.375, 'gini = 0.169\\nsamples = 240\\nvalue = [218, 19, 3, 0]\\nclass = length_url'),\n",
              " Text(0.2518518518518518, 0.5416666666666666, 'url <= 15.5\\ngini = 0.243\\nsamples = 3018\\nvalue = [2594, 407, 15, 2]\\nclass = length_url'),\n",
              " Text(0.2222222222222222, 0.4583333333333333, 'url <= 12.5\\ngini = 0.261\\nsamples = 1742\\nvalue = [1476, 251, 13, 2]\\nclass = length_url'),\n",
              " Text(0.2074074074074074, 0.375, 'gini = 0.238\\nsamples = 279\\nvalue = [241, 35, 3, 0]\\nclass = length_url'),\n",
              " Text(0.23703703703703705, 0.375, 'url <= 14.5\\ngini = 0.266\\nsamples = 1463\\nvalue = [1235, 216, 10, 2]\\nclass = length_url'),\n",
              " Text(0.2222222222222222, 0.2916666666666667, 'url <= 13.5\\ngini = 0.273\\nsamples = 902\\nvalue = [757, 135, 10, 0]\\nclass = length_url'),\n",
              " Text(0.2074074074074074, 0.20833333333333334, 'gini = 0.263\\nsamples = 378\\nvalue = [320, 54, 4, 0]\\nclass = length_url'),\n",
              " Text(0.23703703703703705, 0.20833333333333334, 'gini = 0.28\\nsamples = 524\\nvalue = [437, 81, 6, 0]\\nclass = length_url'),\n",
              " Text(0.2518518518518518, 0.2916666666666667, 'gini = 0.253\\nsamples = 561\\nvalue = [478, 81, 0, 2]\\nclass = length_url'),\n",
              " Text(0.2814814814814815, 0.4583333333333333, 'url <= 16.5\\ngini = 0.217\\nsamples = 1276\\nvalue = [1118, 156, 2, 0]\\nclass = length_url'),\n",
              " Text(0.26666666666666666, 0.375, 'gini = 0.22\\nsamples = 725\\nvalue = [634, 89, 2, 0]\\nclass = length_url'),\n",
              " Text(0.2962962962962963, 0.375, 'gini = 0.214\\nsamples = 551\\nvalue = [484, 67, 0, 0]\\nclass = length_url'),\n",
              " Text(0.4444444444444444, 0.7083333333333334, 'url <= 29.5\\ngini = 0.166\\nsamples = 4440\\nvalue = [4035, 393, 10, 2]\\nclass = length_url'),\n",
              " Text(0.37777777777777777, 0.625, 'url <= 18.5\\ngini = 0.157\\nsamples = 3783\\nvalue = [3458, 316, 9, 0]\\nclass = length_url'),\n",
              " Text(0.362962962962963, 0.5416666666666666, 'gini = 0.129\\nsamples = 549\\nvalue = [511, 37, 1, 0]\\nclass = length_url'),\n",
              " Text(0.3925925925925926, 0.5416666666666666, 'url <= 27.5\\ngini = 0.162\\nsamples = 3234\\nvalue = [2947, 279, 8, 0]\\nclass = length_url'),\n",
              " Text(0.35555555555555557, 0.4583333333333333, 'url <= 24.5\\ngini = 0.166\\nsamples = 2949\\nvalue = [2681, 260, 8, 0]\\nclass = length_url'),\n",
              " Text(0.32592592592592595, 0.375, 'url <= 23.5\\ngini = 0.162\\nsamples = 2247\\nvalue = [2048, 196, 3, 0]\\nclass = length_url'),\n",
              " Text(0.3111111111111111, 0.2916666666666667, 'url <= 21.5\\ngini = 0.164\\nsamples = 1981\\nvalue = [1803, 175, 3, 0]\\nclass = length_url'),\n",
              " Text(0.2814814814814815, 0.20833333333333334, 'url <= 19.5\\ngini = 0.161\\nsamples = 1301\\nvalue = [1186, 113, 2, 0]\\nclass = length_url'),\n",
              " Text(0.26666666666666666, 0.125, 'gini = 0.166\\nsamples = 440\\nvalue = [400, 39, 1, 0]\\nclass = length_url'),\n",
              " Text(0.2962962962962963, 0.125, 'url <= 20.5\\ngini = 0.159\\nsamples = 861\\nvalue = [786, 74, 1, 0]\\nclass = length_url'),\n",
              " Text(0.2814814814814815, 0.041666666666666664, 'gini = 0.157\\nsamples = 433\\nvalue = [396, 36, 1, 0]\\nclass = length_url'),\n",
              " Text(0.3111111111111111, 0.041666666666666664, 'gini = 0.162\\nsamples = 428\\nvalue = [390, 38, 0, 0]\\nclass = length_url'),\n",
              " Text(0.34074074074074073, 0.20833333333333334, 'url <= 22.5\\ngini = 0.168\\nsamples = 680\\nvalue = [617, 62, 1, 0]\\nclass = length_url'),\n",
              " Text(0.32592592592592595, 0.125, 'gini = 0.169\\nsamples = 354\\nvalue = [321, 33, 0, 0]\\nclass = length_url'),\n",
              " Text(0.35555555555555557, 0.125, 'gini = 0.168\\nsamples = 326\\nvalue = [296, 29, 1, 0]\\nclass = length_url'),\n",
              " Text(0.34074074074074073, 0.2916666666666667, 'gini = 0.145\\nsamples = 266\\nvalue = [245, 21, 0, 0]\\nclass = length_url'),\n",
              " Text(0.3851851851851852, 0.375, 'url <= 25.5\\ngini = 0.179\\nsamples = 702\\nvalue = [633, 64, 5, 0]\\nclass = length_url'),\n",
              " Text(0.37037037037037035, 0.2916666666666667, 'gini = 0.178\\nsamples = 287\\nvalue = [259, 25, 3, 0]\\nclass = length_url'),\n",
              " Text(0.4, 0.2916666666666667, 'url <= 26.5\\ngini = 0.179\\nsamples = 415\\nvalue = [374, 39, 2, 0]\\nclass = length_url'),\n",
              " Text(0.3851851851851852, 0.20833333333333334, 'gini = 0.179\\nsamples = 212\\nvalue = [191, 20, 1, 0]\\nclass = length_url'),\n",
              " Text(0.4148148148148148, 0.20833333333333334, 'gini = 0.179\\nsamples = 203\\nvalue = [183, 19, 1, 0]\\nclass = length_url'),\n",
              " Text(0.42962962962962964, 0.4583333333333333, 'url <= 28.5\\ngini = 0.124\\nsamples = 285\\nvalue = [266, 19, 0, 0]\\nclass = length_url'),\n",
              " Text(0.4148148148148148, 0.375, 'gini = 0.097\\nsamples = 156\\nvalue = [148, 8, 0, 0]\\nclass = length_url'),\n",
              " Text(0.4444444444444444, 0.375, 'gini = 0.156\\nsamples = 129\\nvalue = [118, 11, 0, 0]\\nclass = length_url'),\n",
              " Text(0.5111111111111111, 0.625, 'url <= 30.5\\ngini = 0.215\\nsamples = 657\\nvalue = [577, 77, 1, 2]\\nclass = length_url'),\n",
              " Text(0.4962962962962963, 0.5416666666666666, 'gini = 0.283\\nsamples = 88\\nvalue = [73, 15, 0, 0]\\nclass = length_url'),\n",
              " Text(0.5259259259259259, 0.5416666666666666, 'url <= 40.5\\ngini = 0.204\\nsamples = 569\\nvalue = [504, 62, 1, 2]\\nclass = length_url'),\n",
              " Text(0.5111111111111111, 0.4583333333333333, 'url <= 34.5\\ngini = 0.207\\nsamples = 548\\nvalue = [484, 62, 1, 1]\\nclass = length_url'),\n",
              " Text(0.4740740740740741, 0.375, 'url <= 33.5\\ngini = 0.18\\nsamples = 291\\nvalue = [262, 28, 0, 1]\\nclass = length_url'),\n",
              " Text(0.45925925925925926, 0.2916666666666667, 'url <= 32.5\\ngini = 0.193\\nsamples = 232\\nvalue = [207, 24, 0, 1]\\nclass = length_url'),\n",
              " Text(0.4444444444444444, 0.20833333333333334, 'url <= 31.5\\ngini = 0.171\\nsamples = 171\\nvalue = [155, 15, 0, 1]\\nclass = length_url'),\n",
              " Text(0.42962962962962964, 0.125, 'gini = 0.158\\nsamples = 104\\nvalue = [95, 9, 0, 0]\\nclass = length_url'),\n",
              " Text(0.45925925925925926, 0.125, 'gini = 0.19\\nsamples = 67\\nvalue = [60, 6, 0, 1]\\nclass = length_url'),\n",
              " Text(0.4740740740740741, 0.20833333333333334, 'gini = 0.252\\nsamples = 61\\nvalue = [52, 9, 0, 0]\\nclass = length_url'),\n",
              " Text(0.4888888888888889, 0.2916666666666667, 'gini = 0.126\\nsamples = 59\\nvalue = [55, 4, 0, 0]\\nclass = length_url'),\n",
              " Text(0.5481481481481482, 0.375, 'url <= 38.5\\ngini = 0.236\\nsamples = 257\\nvalue = [222, 34, 1, 0]\\nclass = length_url'),\n",
              " Text(0.5185185185185185, 0.2916666666666667, 'url <= 37.5\\ngini = 0.245\\nsamples = 190\\nvalue = [163, 26, 1, 0]\\nclass = length_url'),\n",
              " Text(0.5037037037037037, 0.20833333333333334, 'url <= 35.5\\ngini = 0.231\\nsamples = 144\\nvalue = [125, 18, 1, 0]\\nclass = length_url'),\n",
              " Text(0.4888888888888889, 0.125, 'gini = 0.25\\nsamples = 49\\nvalue = [42, 6, 1, 0]\\nclass = length_url'),\n",
              " Text(0.5185185185185185, 0.125, 'url <= 36.5\\ngini = 0.221\\nsamples = 95\\nvalue = [83, 12, 0, 0]\\nclass = length_url'),\n",
              " Text(0.5037037037037037, 0.041666666666666664, 'gini = 0.231\\nsamples = 45\\nvalue = [39, 6, 0, 0]\\nclass = length_url'),\n",
              " Text(0.5333333333333333, 0.041666666666666664, 'gini = 0.211\\nsamples = 50\\nvalue = [44, 6, 0, 0]\\nclass = length_url'),\n",
              " Text(0.5333333333333333, 0.20833333333333334, 'gini = 0.287\\nsamples = 46\\nvalue = [38, 8, 0, 0]\\nclass = length_url'),\n",
              " Text(0.5777777777777777, 0.2916666666666667, 'url <= 39.5\\ngini = 0.21\\nsamples = 67\\nvalue = [59, 8, 0, 0]\\nclass = length_url'),\n",
              " Text(0.562962962962963, 0.20833333333333334, 'gini = 0.214\\nsamples = 41\\nvalue = [36, 5, 0, 0]\\nclass = length_url'),\n",
              " Text(0.5925925925925926, 0.20833333333333334, 'gini = 0.204\\nsamples = 26\\nvalue = [23, 3, 0, 0]\\nclass = length_url'),\n",
              " Text(0.5407407407407407, 0.4583333333333333, 'gini = 0.091\\nsamples = 21\\nvalue = [20, 0, 0, 1]\\nclass = length_url'),\n",
              " Text(0.5703703703703704, 0.7916666666666666, 'url <= 42.5\\ngini = 0.439\\nsamples = 123\\nvalue = [83, 40, 0, 0]\\nclass = length_url'),\n",
              " Text(0.5555555555555556, 0.7083333333333334, 'gini = 0.499\\nsamples = 78\\nvalue = [41, 37, 0, 0]\\nclass = length_url'),\n",
              " Text(0.5851851851851851, 0.7083333333333334, 'url <= 44.5\\ngini = 0.124\\nsamples = 45\\nvalue = [42, 3, 0, 0]\\nclass = length_url'),\n",
              " Text(0.5703703703703704, 0.625, 'url <= 43.5\\ngini = 0.056\\nsamples = 35\\nvalue = [34, 1, 0, 0]\\nclass = length_url'),\n",
              " Text(0.5555555555555556, 0.5416666666666666, 'gini = 0.105\\nsamples = 18\\nvalue = [17, 1, 0, 0]\\nclass = length_url'),\n",
              " Text(0.5851851851851851, 0.5416666666666666, 'gini = 0.0\\nsamples = 17\\nvalue = [17, 0, 0, 0]\\nclass = length_url'),\n",
              " Text(0.6, 0.625, 'gini = 0.32\\nsamples = 10\\nvalue = [8, 2, 0, 0]\\nclass = length_url'),\n",
              " Text(0.8212962962962963, 0.875, 'url <= 61.5\\ngini = 0.451\\nsamples = 326\\nvalue = [112, 214, 0, 0]\\nclass = nb_qm'),\n",
              " Text(0.7018518518518518, 0.7916666666666666, 'url <= 49.5\\ngini = 0.4\\nsamples = 289\\nvalue = [80, 209, 0, 0]\\nclass = nb_qm'),\n",
              " Text(0.6444444444444445, 0.7083333333333334, 'url <= 46.5\\ngini = 0.499\\nsamples = 63\\nvalue = [33, 30, 0, 0]\\nclass = length_url'),\n",
              " Text(0.6296296296296297, 0.625, 'gini = 0.264\\nsamples = 32\\nvalue = [5, 27, 0, 0]\\nclass = nb_qm'),\n",
              " Text(0.6592592592592592, 0.625, 'url <= 47.5\\ngini = 0.175\\nsamples = 31\\nvalue = [28, 3, 0, 0]\\nclass = length_url'),\n",
              " Text(0.6444444444444445, 0.5416666666666666, 'gini = 0.142\\nsamples = 13\\nvalue = [12, 1, 0, 0]\\nclass = length_url'),\n",
              " Text(0.674074074074074, 0.5416666666666666, 'url <= 48.5\\ngini = 0.198\\nsamples = 18\\nvalue = [16, 2, 0, 0]\\nclass = length_url'),\n",
              " Text(0.6592592592592592, 0.4583333333333333, 'gini = 0.18\\nsamples = 10\\nvalue = [9, 1, 0, 0]\\nclass = length_url'),\n",
              " Text(0.6888888888888889, 0.4583333333333333, 'gini = 0.219\\nsamples = 8\\nvalue = [7, 1, 0, 0]\\nclass = length_url'),\n",
              " Text(0.7592592592592593, 0.7083333333333334, 'url <= 50.5\\ngini = 0.329\\nsamples = 226\\nvalue = [47, 179, 0, 0]\\nclass = nb_qm'),\n",
              " Text(0.7444444444444445, 0.625, 'gini = 0.216\\nsamples = 162\\nvalue = [20, 142, 0, 0]\\nclass = nb_qm'),\n",
              " Text(0.774074074074074, 0.625, 'url <= 52.5\\ngini = 0.488\\nsamples = 64\\nvalue = [27, 37, 0, 0]\\nclass = nb_qm'),\n",
              " Text(0.7333333333333333, 0.5416666666666666, 'url <= 51.5\\ngini = 0.245\\nsamples = 7\\nvalue = [6, 1, 0, 0]\\nclass = length_url'),\n",
              " Text(0.7185185185185186, 0.4583333333333333, 'gini = 0.375\\nsamples = 4\\nvalue = [3, 1, 0, 0]\\nclass = length_url'),\n",
              " Text(0.7481481481481481, 0.4583333333333333, 'gini = 0.0\\nsamples = 3\\nvalue = [3, 0, 0, 0]\\nclass = length_url'),\n",
              " Text(0.8148148148148148, 0.5416666666666666, 'url <= 59.5\\ngini = 0.465\\nsamples = 57\\nvalue = [21, 36, 0, 0]\\nclass = nb_qm'),\n",
              " Text(0.7777777777777778, 0.4583333333333333, 'url <= 54.5\\ngini = 0.495\\nsamples = 40\\nvalue = [18, 22, 0, 0]\\nclass = nb_qm'),\n",
              " Text(0.7481481481481481, 0.375, 'url <= 53.5\\ngini = 0.351\\nsamples = 22\\nvalue = [5, 17, 0, 0]\\nclass = nb_qm'),\n",
              " Text(0.7333333333333333, 0.2916666666666667, 'gini = 0.444\\nsamples = 3\\nvalue = [1, 2, 0, 0]\\nclass = nb_qm'),\n",
              " Text(0.762962962962963, 0.2916666666666667, 'gini = 0.332\\nsamples = 19\\nvalue = [4, 15, 0, 0]\\nclass = nb_qm'),\n",
              " Text(0.8074074074074075, 0.375, 'url <= 55.5\\ngini = 0.401\\nsamples = 18\\nvalue = [13, 5, 0, 0]\\nclass = length_url'),\n",
              " Text(0.7925925925925926, 0.2916666666666667, 'gini = 0.0\\nsamples = 3\\nvalue = [3, 0, 0, 0]\\nclass = length_url'),\n",
              " Text(0.8222222222222222, 0.2916666666666667, 'url <= 57.5\\ngini = 0.444\\nsamples = 15\\nvalue = [10, 5, 0, 0]\\nclass = length_url'),\n",
              " Text(0.7925925925925926, 0.20833333333333334, 'url <= 56.5\\ngini = 0.5\\nsamples = 6\\nvalue = [3, 3, 0, 0]\\nclass = length_url'),\n",
              " Text(0.7777777777777778, 0.125, 'gini = 0.444\\nsamples = 3\\nvalue = [2, 1, 0, 0]\\nclass = length_url'),\n",
              " Text(0.8074074074074075, 0.125, 'gini = 0.444\\nsamples = 3\\nvalue = [1, 2, 0, 0]\\nclass = nb_qm'),\n",
              " Text(0.8518518518518519, 0.20833333333333334, 'url <= 58.5\\ngini = 0.346\\nsamples = 9\\nvalue = [7, 2, 0, 0]\\nclass = length_url'),\n",
              " Text(0.837037037037037, 0.125, 'gini = 0.375\\nsamples = 4\\nvalue = [3, 1, 0, 0]\\nclass = length_url'),\n",
              " Text(0.8666666666666667, 0.125, 'gini = 0.32\\nsamples = 5\\nvalue = [4, 1, 0, 0]\\nclass = length_url'),\n",
              " Text(0.8518518518518519, 0.4583333333333333, 'url <= 60.5\\ngini = 0.291\\nsamples = 17\\nvalue = [3, 14, 0, 0]\\nclass = nb_qm'),\n",
              " Text(0.837037037037037, 0.375, 'gini = 0.0\\nsamples = 3\\nvalue = [0, 3, 0, 0]\\nclass = nb_qm'),\n",
              " Text(0.8666666666666667, 0.375, 'gini = 0.337\\nsamples = 14\\nvalue = [3, 11, 0, 0]\\nclass = nb_qm'),\n",
              " Text(0.9407407407407408, 0.7916666666666666, 'url <= 65.0\\ngini = 0.234\\nsamples = 37\\nvalue = [32, 5, 0, 0]\\nclass = length_url'),\n",
              " Text(0.9111111111111111, 0.7083333333333334, 'url <= 63.5\\ngini = 0.48\\nsamples = 5\\nvalue = [3, 2, 0, 0]\\nclass = length_url'),\n",
              " Text(0.8962962962962963, 0.625, 'gini = 0.0\\nsamples = 3\\nvalue = [3, 0, 0, 0]\\nclass = length_url'),\n",
              " Text(0.9259259259259259, 0.625, 'gini = 0.0\\nsamples = 2\\nvalue = [0, 2, 0, 0]\\nclass = nb_qm'),\n",
              " Text(0.9703703703703703, 0.7083333333333334, 'url <= 107.5\\ngini = 0.17\\nsamples = 32\\nvalue = [29, 3, 0, 0]\\nclass = length_url'),\n",
              " Text(0.9555555555555556, 0.625, 'url <= 89.5\\ngini = 0.227\\nsamples = 23\\nvalue = [20, 3, 0, 0]\\nclass = length_url'),\n",
              " Text(0.9407407407407408, 0.5416666666666666, 'url <= 77.5\\ngini = 0.165\\nsamples = 22\\nvalue = [20, 2, 0, 0]\\nclass = length_url'),\n",
              " Text(0.9111111111111111, 0.4583333333333333, 'url <= 68.5\\ngini = 0.1\\nsamples = 19\\nvalue = [18, 1, 0, 0]\\nclass = length_url'),\n",
              " Text(0.8962962962962963, 0.375, 'url <= 67.0\\ngini = 0.278\\nsamples = 6\\nvalue = [5, 1, 0, 0]\\nclass = length_url'),\n",
              " Text(0.8814814814814815, 0.2916666666666667, 'gini = 0.0\\nsamples = 2\\nvalue = [2, 0, 0, 0]\\nclass = length_url'),\n",
              " Text(0.9111111111111111, 0.2916666666666667, 'gini = 0.375\\nsamples = 4\\nvalue = [3, 1, 0, 0]\\nclass = length_url'),\n",
              " Text(0.9259259259259259, 0.375, 'gini = 0.0\\nsamples = 13\\nvalue = [13, 0, 0, 0]\\nclass = length_url'),\n",
              " Text(0.9703703703703703, 0.4583333333333333, 'url <= 79.5\\ngini = 0.444\\nsamples = 3\\nvalue = [2, 1, 0, 0]\\nclass = length_url'),\n",
              " Text(0.9555555555555556, 0.375, 'gini = 0.0\\nsamples = 1\\nvalue = [0, 1, 0, 0]\\nclass = nb_qm'),\n",
              " Text(0.9851851851851852, 0.375, 'gini = 0.0\\nsamples = 2\\nvalue = [2, 0, 0, 0]\\nclass = length_url'),\n",
              " Text(0.9703703703703703, 0.5416666666666666, 'gini = 0.0\\nsamples = 1\\nvalue = [0, 1, 0, 0]\\nclass = nb_qm'),\n",
              " Text(0.9851851851851852, 0.625, 'gini = 0.0\\nsamples = 9\\nvalue = [9, 0, 0, 0]\\nclass = length_url')]"
            ]
          },
          "metadata": {},
          "execution_count": 35
        },
        {
          "output_type": "display_data",
          "data": {
            "text/plain": [
              "<Figure size 640x480 with 1 Axes>"
            ],
            "image/png": "[encoded data removed]"
          },
          "metadata": {}
        }
      ]
    }
  ]
}