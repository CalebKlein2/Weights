{
  "nbformat": 4,
  "nbformat_minor": 0,
  "metadata": {
    "colab": {
      "provenance": []
    },
    "kernelspec": {
      "name": "python3",
      "display_name": "Python 3"
    },
    "language_info": {
      "name": "python"
    }
  },
  "cells": [
    {
      "cell_type": "code",
      "execution_count": 1,
      "metadata": {
        "id": "SueP-4sKuE-A"
      },
      "outputs": [],
      "source": [
        "import pandas as pd\n",
        "import numpy as np\n",
        "from sklearn.model_selection import train_test_split\n",
        "from sklearn.linear_model import LogisticRegression\n",
        "from sklearn.metrics import confusion_matrix, classification_report, accuracy_score"
      ]
    },
    {
      "cell_type": "code",
      "source": [
        "data=pd.read_csv(\"/content/dataset_phishing.csv\")"
      ],
      "metadata": {
        "id": "nTQ2CPzeu1_l"
      },
      "execution_count": 3,
      "outputs": []
    },
    {
      "cell_type": "code",
      "source": [
        "print(data.head())"
      ],
      "metadata": {
        "colab": {
          "base_uri": "https://localhost:8080/"
        },
        "id": "89vbftvGusTJ",
        "outputId": "4c9673f3-e8e6-4ec7-fc68-8de1acc205a3"
      },
      "execution_count": 4,
      "outputs": [
        {
          "output_type": "stream",
          "name": "stdout",
          "text": [
            "                                                 url  length_url  \\\n",
            "0              http://www.crestonwood.com/router.php          37   \n",
            "1  http://shadetreetechnology.com/V4/validation/a...          77   \n",
            "2  https://support-appleld.com.secureupdate.duila...         126   \n",
            "3                                 http://rgipt.ac.in          18   \n",
            "4  http://www.iracing.com/tracks/gateway-motorspo...          55   \n",
            "\n",
            "   length_hostname  ip  nb_dots  nb_hyphens  nb_at  nb_qm  nb_and  nb_or  ...  \\\n",
            "0               19   0        3           0      0      0       0      0  ...   \n",
            "1               23   1        1           0      0      0       0      0  ...   \n",
            "2               50   1        4           1      0      1       2      0  ...   \n",
            "3               11   0        2           0      0      0       0      0  ...   \n",
            "4               15   0        2           2      0      0       0      0  ...   \n",
            "\n",
            "   domain_in_title  domain_with_copyright  whois_registered_domain  \\\n",
            "0                0                      1                        0   \n",
            "1                1                      0                        0   \n",
            "2                1                      0                        0   \n",
            "3                1                      0                        0   \n",
            "4                0                      1                        0   \n",
            "\n",
            "   domain_registration_length  domain_age  web_traffic  dns_record  \\\n",
            "0                          45          -1            0           1   \n",
            "1                          77        5767            0           0   \n",
            "2                          14        4004      5828815           0   \n",
            "3                          62          -1       107721           0   \n",
            "4                         224        8175         8725           0   \n",
            "\n",
            "   google_index  page_rank      status  \n",
            "0             1          4  legitimate  \n",
            "1             1          2    phishing  \n",
            "2             1          0    phishing  \n",
            "3             0          3  legitimate  \n",
            "4             0          6  legitimate  \n",
            "\n",
            "[5 rows x 89 columns]\n"
          ]
        }
      ]
    },
    {
      "cell_type": "code",
      "source": [
        "print(data.describe())"
      ],
      "metadata": {
        "colab": {
          "base_uri": "https://localhost:8080/"
        },
        "id": "96cYvDyguxHM",
        "outputId": "4035dca2-e640-4b61-c432-8b941b7f54ae"
      },
      "execution_count": 5,
      "outputs": [
        {
          "output_type": "stream",
          "name": "stdout",
          "text": [
            "         length_url  length_hostname            ip       nb_dots  \\\n",
            "count  11430.000000     11430.000000  11430.000000  11430.000000   \n",
            "mean      61.126684        21.090289      0.150569      2.480752   \n",
            "std       55.297318        10.777171      0.357644      1.369686   \n",
            "min       12.000000         4.000000      0.000000      1.000000   \n",
            "25%       33.000000        15.000000      0.000000      2.000000   \n",
            "50%       47.000000        19.000000      0.000000      2.000000   \n",
            "75%       71.000000        24.000000      0.000000      3.000000   \n",
            "max     1641.000000       214.000000      1.000000     24.000000   \n",
            "\n",
            "         nb_hyphens         nb_at         nb_qm        nb_and    nb_or  \\\n",
            "count  11430.000000  11430.000000  11430.000000  11430.000000  11430.0   \n",
            "mean       0.997550      0.022222      0.141207      0.162292      0.0   \n",
            "std        2.087087      0.155500      0.364456      0.821337      0.0   \n",
            "min        0.000000      0.000000      0.000000      0.000000      0.0   \n",
            "25%        0.000000      0.000000      0.000000      0.000000      0.0   \n",
            "50%        0.000000      0.000000      0.000000      0.000000      0.0   \n",
            "75%        1.000000      0.000000      0.000000      0.000000      0.0   \n",
            "max       43.000000      4.000000      3.000000     19.000000      0.0   \n",
            "\n",
            "              nb_eq  ...   empty_title  domain_in_title  \\\n",
            "count  11430.000000  ...  11430.000000     11430.000000   \n",
            "mean       0.293176  ...      0.124759         0.775853   \n",
            "std        0.998317  ...      0.330460         0.417038   \n",
            "min        0.000000  ...      0.000000         0.000000   \n",
            "25%        0.000000  ...      0.000000         1.000000   \n",
            "50%        0.000000  ...      0.000000         1.000000   \n",
            "75%        0.000000  ...      0.000000         1.000000   \n",
            "max       19.000000  ...      1.000000         1.000000   \n",
            "\n",
            "       domain_with_copyright  whois_registered_domain  \\\n",
            "count           11430.000000             11430.000000   \n",
            "mean                0.439545                 0.072878   \n",
            "std                 0.496353                 0.259948   \n",
            "min                 0.000000                 0.000000   \n",
            "25%                 0.000000                 0.000000   \n",
            "50%                 0.000000                 0.000000   \n",
            "75%                 1.000000                 0.000000   \n",
            "max                 1.000000                 1.000000   \n",
            "\n",
            "       domain_registration_length    domain_age   web_traffic    dns_record  \\\n",
            "count                11430.000000  11430.000000  1.143000e+04  11430.000000   \n",
            "mean                   492.532196   4062.543745  8.567566e+05      0.020122   \n",
            "std                    814.769415   3107.784600  1.995606e+06      0.140425   \n",
            "min                     -1.000000    -12.000000  0.000000e+00      0.000000   \n",
            "25%                     84.000000    972.250000  0.000000e+00      0.000000   \n",
            "50%                    242.000000   3993.000000  1.651000e+03      0.000000   \n",
            "75%                    449.000000   7026.750000  3.738455e+05      0.000000   \n",
            "max                  29829.000000  12874.000000  1.076799e+07      1.000000   \n",
            "\n",
            "       google_index     page_rank  \n",
            "count  11430.000000  11430.000000  \n",
            "mean       0.533946      3.185739  \n",
            "std        0.498868      2.536955  \n",
            "min        0.000000      0.000000  \n",
            "25%        0.000000      1.000000  \n",
            "50%        1.000000      3.000000  \n",
            "75%        1.000000      5.000000  \n",
            "max        1.000000     10.000000  \n",
            "\n",
            "[8 rows x 87 columns]\n"
          ]
        }
      ]
    },
    {
      "cell_type": "code",
      "source": [
        "print(data.info())"
      ],
      "metadata": {
        "colab": {
          "base_uri": "https://localhost:8080/"
        },
        "id": "3OfCNpwEu9uS",
        "outputId": "4c91758d-a634-407e-e6e0-8df76a93ec36"
      },
      "execution_count": 6,
      "outputs": [
        {
          "output_type": "stream",
          "name": "stdout",
          "text": [
            "<class 'pandas.core.frame.DataFrame'>\n",
            "RangeIndex: 11430 entries, 0 to 11429\n",
            "Data columns (total 89 columns):\n",
            " #   Column                      Non-Null Count  Dtype  \n",
            "---  ------                      --------------  -----  \n",
            " 0   url                         11430 non-null  object \n",
            " 1   length_url                  11430 non-null  int64  \n",
            " 2   length_hostname             11430 non-null  int64  \n",
            " 3   ip                          11430 non-null  int64  \n",
            " 4   nb_dots                     11430 non-null  int64  \n",
            " 5   nb_hyphens                  11430 non-null  int64  \n",
            " 6   nb_at                       11430 non-null  int64  \n",
            " 7   nb_qm                       11430 non-null  int64  \n",
            " 8   nb_and                      11430 non-null  int64  \n",
            " 9   nb_or                       11430 non-null  int64  \n",
            " 10  nb_eq                       11430 non-null  int64  \n",
            " 11  nb_underscore               11430 non-null  int64  \n",
            " 12  nb_tilde                    11430 non-null  int64  \n",
            " 13  nb_percent                  11430 non-null  int64  \n",
            " 14  nb_slash                    11430 non-null  int64  \n",
            " 15  nb_star                     11430 non-null  int64  \n",
            " 16  nb_colon                    11430 non-null  int64  \n",
            " 17  nb_comma                    11430 non-null  int64  \n",
            " 18  nb_semicolumn               11430 non-null  int64  \n",
            " 19  nb_dollar                   11430 non-null  int64  \n",
            " 20  nb_space                    11430 non-null  int64  \n",
            " 21  nb_www                      11430 non-null  int64  \n",
            " 22  nb_com                      11430 non-null  int64  \n",
            " 23  nb_dslash                   11430 non-null  int64  \n",
            " 24  http_in_path                11430 non-null  int64  \n",
            " 25  https_token                 11430 non-null  int64  \n",
            " 26  ratio_digits_url            11430 non-null  float64\n",
            " 27  ratio_digits_host           11430 non-null  float64\n",
            " 28  punycode                    11430 non-null  int64  \n",
            " 29  port                        11430 non-null  int64  \n",
            " 30  tld_in_path                 11430 non-null  int64  \n",
            " 31  tld_in_subdomain            11430 non-null  int64  \n",
            " 32  abnormal_subdomain          11430 non-null  int64  \n",
            " 33  nb_subdomains               11430 non-null  int64  \n",
            " 34  prefix_suffix               11430 non-null  int64  \n",
            " 35  random_domain               11430 non-null  int64  \n",
            " 36  shortening_service          11430 non-null  int64  \n",
            " 37  path_extension              11430 non-null  int64  \n",
            " 38  nb_redirection              11430 non-null  int64  \n",
            " 39  nb_external_redirection     11430 non-null  int64  \n",
            " 40  length_words_raw            11430 non-null  int64  \n",
            " 41  char_repeat                 11430 non-null  int64  \n",
            " 42  shortest_words_raw          11430 non-null  int64  \n",
            " 43  shortest_word_host          11430 non-null  int64  \n",
            " 44  shortest_word_path          11430 non-null  int64  \n",
            " 45  longest_words_raw           11430 non-null  int64  \n",
            " 46  longest_word_host           11430 non-null  int64  \n",
            " 47  longest_word_path           11430 non-null  int64  \n",
            " 48  avg_words_raw               11430 non-null  float64\n",
            " 49  avg_word_host               11430 non-null  float64\n",
            " 50  avg_word_path               11430 non-null  float64\n",
            " 51  phish_hints                 11430 non-null  int64  \n",
            " 52  domain_in_brand             11430 non-null  int64  \n",
            " 53  brand_in_subdomain          11430 non-null  int64  \n",
            " 54  brand_in_path               11430 non-null  int64  \n",
            " 55  suspecious_tld              11430 non-null  int64  \n",
            " 56  statistical_report          11430 non-null  int64  \n",
            " 57  nb_hyperlinks               11430 non-null  int64  \n",
            " 58  ratio_intHyperlinks         11430 non-null  float64\n",
            " 59  ratio_extHyperlinks         11430 non-null  float64\n",
            " 60  ratio_nullHyperlinks        11430 non-null  int64  \n",
            " 61  nb_extCSS                   11430 non-null  int64  \n",
            " 62  ratio_intRedirection        11430 non-null  int64  \n",
            " 63  ratio_extRedirection        11430 non-null  float64\n",
            " 64  ratio_intErrors             11430 non-null  int64  \n",
            " 65  ratio_extErrors             11430 non-null  float64\n",
            " 66  login_form                  11430 non-null  int64  \n",
            " 67  external_favicon            11430 non-null  int64  \n",
            " 68  links_in_tags               11430 non-null  float64\n",
            " 69  submit_email                11430 non-null  int64  \n",
            " 70  ratio_intMedia              11430 non-null  float64\n",
            " 71  ratio_extMedia              11430 non-null  float64\n",
            " 72  sfh                         11430 non-null  int64  \n",
            " 73  iframe                      11430 non-null  int64  \n",
            " 74  popup_window                11430 non-null  int64  \n",
            " 75  safe_anchor                 11430 non-null  float64\n",
            " 76  onmouseover                 11430 non-null  int64  \n",
            " 77  right_clic                  11430 non-null  int64  \n",
            " 78  empty_title                 11430 non-null  int64  \n",
            " 79  domain_in_title             11430 non-null  int64  \n",
            " 80  domain_with_copyright       11430 non-null  int64  \n",
            " 81  whois_registered_domain     11430 non-null  int64  \n",
            " 82  domain_registration_length  11430 non-null  int64  \n",
            " 83  domain_age                  11430 non-null  int64  \n",
            " 84  web_traffic                 11430 non-null  int64  \n",
            " 85  dns_record                  11430 non-null  int64  \n",
            " 86  google_index                11430 non-null  int64  \n",
            " 87  page_rank                   11430 non-null  int64  \n",
            " 88  status                      11430 non-null  object \n",
            "dtypes: float64(13), int64(74), object(2)\n",
            "memory usage: 7.8+ MB\n",
            "None\n"
          ]
        }
      ]
    },
    {
      "cell_type": "code",
      "source": [
        "target = 'length_url'"
      ],
      "metadata": {
        "id": "6-REEeyWu-sL"
      },
      "execution_count": 7,
      "outputs": []
    },
    {
      "cell_type": "code",
      "source": [
        "features = data.drop(columns=[target]).columns"
      ],
      "metadata": {
        "id": "aJUd9GFkvREu"
      },
      "execution_count": 8,
      "outputs": []
    },
    {
      "cell_type": "code",
      "source": [
        "X = data[features]\n",
        "y = data[target]"
      ],
      "metadata": {
        "id": "JEzF0b_ovUEE"
      },
      "execution_count": 9,
      "outputs": []
    },
    {
      "cell_type": "code",
      "source": [
        "X_train, X_test, y_train, y_test = train_test_split(data.length_url.values.reshape(-1,1), data.length_url.values, random_state=11)"
      ],
      "metadata": {
        "id": "xjLo5T8pvXgC"
      },
      "execution_count": 14,
      "outputs": []
    },
    {
      "cell_type": "code",
      "source": [
        "model = LogisticRegression(max_iter=1000)"
      ],
      "metadata": {
        "id": "va0UWbN3vflx"
      },
      "execution_count": 15,
      "outputs": []
    },
    {
      "cell_type": "code",
      "source": [
        "model.fit(X_train, y_train)"
      ],
      "metadata": {
        "colab": {
          "base_uri": "https://localhost:8080/",
          "height": 233
        },
        "id": "dNUQVae0vsM7",
        "outputId": "07c66586-f554-4ee6-fe64-efd65bbf17d6"
      },
      "execution_count": 16,
      "outputs": [
        {
          "output_type": "stream",
          "name": "stderr",
          "text": [
            "/usr/local/lib/python3.10/dist-packages/sklearn/linear_model/_logistic.py:458: ConvergenceWarning: lbfgs failed to converge (status=1):\n",
            "STOP: TOTAL NO. of ITERATIONS REACHED LIMIT.\n",
            "\n",
            "Increase the number of iterations (max_iter) or scale the data as shown in:\n",
            "    https://scikit-learn.org/stable/modules/preprocessing.html\n",
            "Please also refer to the documentation for alternative solver options:\n",
            "    https://scikit-learn.org/stable/modules/linear_model.html#logistic-regression\n",
            "  n_iter_i = _check_optimize_result(\n"
          ]
        },
        {
          "output_type": "execute_result",
          "data": {
            "text/plain": [
              "LogisticRegression(max_iter=1000)"
            ],
            "text/html": [
              "<style>#sk-container-id-1 {color: black;background-color: white;}#sk-container-id-1 pre{padding: 0;}#sk-container-id-1 div.sk-toggleable {background-color: white;}#sk-container-id-1 label.sk-toggleable__label {cursor: pointer;display: block;width: 100%;margin-bottom: 0;padding: 0.3em;box-sizing: border-box;text-align: center;}#sk-container-id-1 label.sk-toggleable__label-arrow:before {content: \"▸\";float: left;margin-right: 0.25em;color: #696969;}#sk-container-id-1 label.sk-toggleable__label-arrow:hover:before {color: black;}#sk-container-id-1 div.sk-estimator:hover label.sk-toggleable__label-arrow:before {color: black;}#sk-container-id-1 div.sk-toggleable__content {max-height: 0;max-width: 0;overflow: hidden;text-align: left;background-color: #f0f8ff;}#sk-container-id-1 div.sk-toggleable__content pre {margin: 0.2em;color: black;border-radius: 0.25em;background-color: #f0f8ff;}#sk-container-id-1 input.sk-toggleable__control:checked~div.sk-toggleable__content {max-height: 200px;max-width: 100%;overflow: auto;}#sk-container-id-1 input.sk-toggleable__control:checked~label.sk-toggleable__label-arrow:before {content: \"▾\";}#sk-container-id-1 div.sk-estimator input.sk-toggleable__control:checked~label.sk-toggleable__label {background-color: #d4ebff;}#sk-container-id-1 div.sk-label input.sk-toggleable__control:checked~label.sk-toggleable__label {background-color: #d4ebff;}#sk-container-id-1 input.sk-hidden--visually {border: 0;clip: rect(1px 1px 1px 1px);clip: rect(1px, 1px, 1px, 1px);height: 1px;margin: -1px;overflow: hidden;padding: 0;position: absolute;width: 1px;}#sk-container-id-1 div.sk-estimator {font-family: monospace;background-color: #f0f8ff;border: 1px dotted black;border-radius: 0.25em;box-sizing: border-box;margin-bottom: 0.5em;}#sk-container-id-1 div.sk-estimator:hover {background-color: #d4ebff;}#sk-container-id-1 div.sk-parallel-item::after {content: \"\";width: 100%;border-bottom: 1px solid gray;flex-grow: 1;}#sk-container-id-1 div.sk-label:hover label.sk-toggleable__label {background-color: #d4ebff;}#sk-container-id-1 div.sk-serial::before {content: \"\";position: absolute;border-left: 1px solid gray;box-sizing: border-box;top: 0;bottom: 0;left: 50%;z-index: 0;}#sk-container-id-1 div.sk-serial {display: flex;flex-direction: column;align-items: center;background-color: white;padding-right: 0.2em;padding-left: 0.2em;position: relative;}#sk-container-id-1 div.sk-item {position: relative;z-index: 1;}#sk-container-id-1 div.sk-parallel {display: flex;align-items: stretch;justify-content: center;background-color: white;position: relative;}#sk-container-id-1 div.sk-item::before, #sk-container-id-1 div.sk-parallel-item::before {content: \"\";position: absolute;border-left: 1px solid gray;box-sizing: border-box;top: 0;bottom: 0;left: 50%;z-index: -1;}#sk-container-id-1 div.sk-parallel-item {display: flex;flex-direction: column;z-index: 1;position: relative;background-color: white;}#sk-container-id-1 div.sk-parallel-item:first-child::after {align-self: flex-end;width: 50%;}#sk-container-id-1 div.sk-parallel-item:last-child::after {align-self: flex-start;width: 50%;}#sk-container-id-1 div.sk-parallel-item:only-child::after {width: 0;}#sk-container-id-1 div.sk-dashed-wrapped {border: 1px dashed gray;margin: 0 0.4em 0.5em 0.4em;box-sizing: border-box;padding-bottom: 0.4em;background-color: white;}#sk-container-id-1 div.sk-label label {font-family: monospace;font-weight: bold;display: inline-block;line-height: 1.2em;}#sk-container-id-1 div.sk-label-container {text-align: center;}#sk-container-id-1 div.sk-container {/* jupyter's `normalize.less` sets `[hidden] { display: none; }` but bootstrap.min.css set `[hidden] { display: none !important; }` so we also need the `!important` here to be able to override the default hidden behavior on the sphinx rendered scikit-learn.org. See: https://github.com/scikit-learn/scikit-learn/issues/21755 */display: inline-block !important;position: relative;}#sk-container-id-1 div.sk-text-repr-fallback {display: none;}</style><div id=\"sk-container-id-1\" class=\"sk-top-container\"><div class=\"sk-text-repr-fallback\"><pre>LogisticRegression(max_iter=1000)</pre><b>In a Jupyter environment, please rerun this cell to show the HTML representation or trust the notebook. <br />On GitHub, the HTML representation is unable to render, please try loading this page with nbviewer.org.</b></div><div class=\"sk-container\" hidden><div class=\"sk-item\"><div class=\"sk-estimator sk-toggleable\"><input class=\"sk-toggleable__control sk-hidden--visually\" id=\"sk-estimator-id-1\" type=\"checkbox\" checked><label for=\"sk-estimator-id-1\" class=\"sk-toggleable__label sk-toggleable__label-arrow\">LogisticRegression</label><div class=\"sk-toggleable__content\"><pre>LogisticRegression(max_iter=1000)</pre></div></div></div></div></div>"
            ]
          },
          "metadata": {},
          "execution_count": 16
        }
      ]
    },
    {
      "cell_type": "code",
      "source": [
        "y_pred = model.predict(X_test)"
      ],
      "metadata": {
        "id": "NJA0mDrTwuMa"
      },
      "execution_count": 17,
      "outputs": []
    },
    {
      "cell_type": "code",
      "source": [
        "accuracy = accuracy_score(y_test, y_pred)\n",
        "print(\"Accuracy:\", accuracy)"
      ],
      "metadata": {
        "colab": {
          "base_uri": "https://localhost:8080/"
        },
        "id": "e3moI_82wxPi",
        "outputId": "2299fe34-3b5c-4049-df5a-3cbc2035bb03"
      },
      "execution_count": 18,
      "outputs": [
        {
          "output_type": "stream",
          "name": "stdout",
          "text": [
            "Accuracy: 0.07242827151854443\n"
          ]
        }
      ]
    },
    {
      "cell_type": "code",
      "source": [
        "conf_matrix = confusion_matrix(y_test, y_pred)\n",
        "print(\"Confusion Matrix:\\n\", conf_matrix)"
      ],
      "metadata": {
        "colab": {
          "base_uri": "https://localhost:8080/"
        },
        "id": "QOIyCrPUw014",
        "outputId": "7e294f28-166b-4673-9204-c7f881697e44"
      },
      "execution_count": 19,
      "outputs": [
        {
          "output_type": "stream",
          "name": "stdout",
          "text": [
            "Confusion Matrix:\n",
            " [[0 0 0 ... 0 0 0]\n",
            " [0 0 0 ... 0 0 0]\n",
            " [0 0 0 ... 0 0 0]\n",
            " ...\n",
            " [0 0 0 ... 0 0 0]\n",
            " [0 0 0 ... 0 0 2]\n",
            " [0 0 0 ... 0 0 0]]\n"
          ]
        }
      ]
    },
    {
      "cell_type": "code",
      "source": [
        "class_report = classification_report(y_test, y_pred)\n",
        "print(\"Classification Report:\\n\", class_report)"
      ],
      "metadata": {
        "colab": {
          "base_uri": "https://localhost:8080/"
        },
        "id": "gIyggjG9w1tU",
        "outputId": "82f051b6-a943-4e4d-d60a-69d13f1d663e"
      },
      "execution_count": 20,
      "outputs": [
        {
          "output_type": "stream",
          "name": "stdout",
          "text": [
            "Classification Report:\n",
            "               precision    recall  f1-score   support\n",
            "\n",
            "          14       0.00      0.00      0.00         1\n",
            "          15       0.00      0.00      0.00         6\n",
            "          16       0.00      0.00      0.00         2\n",
            "          17       0.00      0.00      0.00        10\n",
            "          18       0.00      0.00      0.00        14\n",
            "          19       0.00      0.00      0.00        16\n",
            "          20       0.00      0.00      0.00        19\n",
            "          21       0.00      0.00      0.00        35\n",
            "          22       0.00      0.00      0.00        43\n",
            "          23       0.00      0.00      0.00        46\n",
            "          24       0.00      0.00      0.00        45\n",
            "          25       0.00      0.00      0.00        49\n",
            "          26       0.27      1.00      0.43        61\n",
            "          27       0.00      0.00      0.00        63\n",
            "          28       0.00      0.00      0.00        52\n",
            "          29       0.28      1.00      0.44        68\n",
            "          30       0.00      0.00      0.00        55\n",
            "          31       0.00      0.00      0.00        76\n",
            "          32       0.00      0.00      0.00        43\n",
            "          33       0.53      1.00      0.69        62\n",
            "          34       0.00      0.00      0.00        55\n",
            "          35       0.00      0.00      0.00        62\n",
            "          36       0.00      0.00      0.00        58\n",
            "          37       0.00      0.00      0.00        37\n",
            "          38       0.00      0.00      0.00        41\n",
            "          39       0.00      0.00      0.00        60\n",
            "          40       0.00      0.00      0.00        49\n",
            "          41       0.00      0.00      0.00        52\n",
            "          42       0.00      0.00      0.00        44\n",
            "          43       0.00      0.00      0.00        47\n",
            "          44       0.00      0.00      0.00        38\n",
            "          45       0.00      0.00      0.00        57\n",
            "          46       0.00      0.00      0.00        45\n",
            "          47       0.00      0.00      0.00        37\n",
            "          48       0.00      0.00      0.00        50\n",
            "          49       0.00      0.00      0.00        33\n",
            "          50       0.00      0.00      0.00        40\n",
            "          51       0.00      0.00      0.00        51\n",
            "          52       0.00      0.00      0.00        35\n",
            "          53       0.00      0.00      0.00        27\n",
            "          54       0.00      0.00      0.00        34\n",
            "          55       0.00      0.00      0.00        28\n",
            "          56       0.00      0.00      0.00        41\n",
            "          57       0.00      0.00      0.00        34\n",
            "          58       0.00      0.00      0.00        27\n",
            "          59       0.00      0.00      0.00        29\n",
            "          60       0.00      0.00      0.00        21\n",
            "          61       0.00      0.00      0.00        25\n",
            "          62       0.00      0.00      0.00        22\n",
            "          63       0.00      0.00      0.00        26\n",
            "          64       0.00      0.00      0.00        28\n",
            "          65       0.00      0.00      0.00        17\n",
            "          66       0.00      0.00      0.00        27\n",
            "          67       0.00      0.00      0.00        16\n",
            "          68       0.00      0.00      0.00        29\n",
            "          69       0.00      0.00      0.00        26\n",
            "          70       0.00      0.00      0.00        24\n",
            "          71       0.00      0.00      0.00        19\n",
            "          72       0.00      0.00      0.00        11\n",
            "          73       0.00      0.00      0.00        16\n",
            "          74       0.00      0.00      0.00        29\n",
            "          75       0.00      0.00      0.00        15\n",
            "          76       0.00      0.00      0.00        20\n",
            "          77       0.00      0.00      0.00        32\n",
            "          78       0.00      0.00      0.00        11\n",
            "          79       0.00      0.00      0.00        15\n",
            "          80       0.00      0.00      0.00        10\n",
            "          81       0.00      0.00      0.00         8\n",
            "          82       0.00      0.00      0.00        13\n",
            "          83       0.00      0.00      0.00        14\n",
            "          84       0.00      0.00      0.00        13\n",
            "          85       0.00      0.00      0.00        16\n",
            "          86       0.00      0.00      0.00        13\n",
            "          87       0.00      0.00      0.00         6\n",
            "          88       0.00      0.00      0.00        12\n",
            "          89       0.00      0.00      0.00         4\n",
            "          90       0.00      0.00      0.00         5\n",
            "          91       0.00      0.00      0.00         9\n",
            "          92       0.00      0.00      0.00         4\n",
            "          93       0.00      0.00      0.00         7\n",
            "          94       0.00      0.00      0.00         7\n",
            "          95       0.00      0.00      0.00         6\n",
            "          96       0.00      0.00      0.00         8\n",
            "          97       0.00      0.00      0.00         7\n",
            "          98       0.00      0.00      0.00        11\n",
            "          99       0.00      0.00      0.00        11\n",
            "         100       0.00      0.00      0.00        11\n",
            "         101       0.00      0.00      0.00         2\n",
            "         102       0.00      0.00      0.00         5\n",
            "         103       0.00      0.00      0.00         8\n",
            "         104       0.00      0.00      0.00         8\n",
            "         105       0.00      0.00      0.00         9\n",
            "         106       0.00      0.00      0.00         8\n",
            "         107       0.00      0.00      0.00         7\n",
            "         108       0.00      0.00      0.00         3\n",
            "         109       0.00      0.00      0.00         1\n",
            "         110       0.00      0.00      0.00         7\n",
            "         111       0.00      0.00      0.00         4\n",
            "         112       0.00      0.00      0.00         6\n",
            "         113       0.00      0.00      0.00        10\n",
            "         114       0.00      0.00      0.00         2\n",
            "         115       0.00      0.00      0.00         4\n",
            "         116       0.00      0.00      0.00         3\n",
            "         117       0.00      0.00      0.00         6\n",
            "         118       0.00      0.00      0.00         9\n",
            "         119       0.00      0.00      0.00         7\n",
            "         120       0.00      0.00      0.00         7\n",
            "         121       0.00      0.00      0.00         1\n",
            "         122       0.00      0.00      0.00         5\n",
            "         123       0.00      0.00      0.00         6\n",
            "         124       0.00      0.00      0.00        12\n",
            "         125       0.00      0.00      0.00         6\n",
            "         126       0.00      0.00      0.00        19\n",
            "         127       0.00      0.00      0.00        13\n",
            "         128       0.09      1.00      0.17        16\n",
            "         129       0.00      0.00      0.00         4\n",
            "         130       0.00      0.00      0.00         3\n",
            "         131       0.00      0.00      0.00         2\n",
            "         132       0.00      0.00      0.00         9\n",
            "         133       0.00      0.00      0.00         3\n",
            "         134       0.00      0.00      0.00         3\n",
            "         135       0.00      0.00      0.00         3\n",
            "         136       0.00      0.00      0.00         1\n",
            "         137       0.00      0.00      0.00         2\n",
            "         138       0.00      0.00      0.00         2\n",
            "         139       0.00      0.00      0.00         1\n",
            "         140       0.00      0.00      0.00         4\n",
            "         141       0.00      0.00      0.00         2\n",
            "         142       0.00      0.00      0.00         4\n",
            "         143       0.00      0.00      0.00         2\n",
            "         144       0.00      0.00      0.00         1\n",
            "         146       0.00      0.00      0.00         2\n",
            "         147       0.00      0.00      0.00         4\n",
            "         148       0.00      0.00      0.00         3\n",
            "         149       0.00      0.00      0.00         3\n",
            "         151       0.00      0.00      0.00         1\n",
            "         153       0.00      0.00      0.00         2\n",
            "         154       0.00      0.00      0.00         2\n",
            "         155       0.00      0.00      0.00         4\n",
            "         158       0.00      0.00      0.00         1\n",
            "         159       0.00      0.00      0.00         2\n",
            "         162       0.00      0.00      0.00         1\n",
            "         163       0.00      0.00      0.00         2\n",
            "         164       0.00      0.00      0.00         1\n",
            "         165       0.00      0.00      0.00         2\n",
            "         167       0.00      0.00      0.00         1\n",
            "         168       0.00      0.00      0.00         1\n",
            "         169       0.00      0.00      0.00         3\n",
            "         170       0.00      0.00      0.00         1\n",
            "         172       0.00      0.00      0.00         1\n",
            "         174       0.00      0.00      0.00         1\n",
            "         177       0.00      0.00      0.00         1\n",
            "         183       0.00      0.00      0.00         2\n",
            "         188       0.00      0.00      0.00         2\n",
            "         190       0.00      0.00      0.00         2\n",
            "         196       0.00      0.00      0.00         2\n",
            "         197       0.00      0.00      0.00         2\n",
            "         199       0.00      0.00      0.00         1\n",
            "         201       0.00      0.00      0.00         1\n",
            "         202       0.00      0.00      0.00         3\n",
            "         204       0.00      0.00      0.00         1\n",
            "         206       0.00      0.00      0.00         2\n",
            "         207       0.00      0.00      0.00         1\n",
            "         210       0.00      0.00      0.00         1\n",
            "         211       0.00      0.00      0.00         1\n",
            "         215       0.00      0.00      0.00         1\n",
            "         218       0.00      0.00      0.00         3\n",
            "         219       0.00      0.00      0.00         1\n",
            "         226       0.00      0.00      0.00         1\n",
            "         227       0.00      0.00      0.00         1\n",
            "         229       0.00      0.00      0.00         2\n",
            "         232       0.00      0.00      0.00         1\n",
            "         234       0.00      0.00      0.00         1\n",
            "         235       0.00      0.00      0.00         1\n",
            "         238       0.00      0.00      0.00         2\n",
            "         239       0.00      0.00      0.00         1\n",
            "         242       0.00      0.00      0.00         1\n",
            "         243       0.00      0.00      0.00         3\n",
            "         254       0.00      0.00      0.00         1\n",
            "         256       0.00      0.00      0.00         1\n",
            "         258       0.00      0.00      0.00         1\n",
            "         259       0.00      0.00      0.00         2\n",
            "         260       0.00      0.00      0.00         1\n",
            "         261       0.00      0.00      0.00         1\n",
            "         263       0.00      0.00      0.00         1\n",
            "         264       0.00      0.00      0.00         1\n",
            "         265       0.00      0.00      0.00         1\n",
            "         268       0.00      0.00      0.00         1\n",
            "         278       0.00      0.00      0.00         1\n",
            "         302       0.00      0.00      0.00         1\n",
            "         303       0.00      0.00      0.00         1\n",
            "         330       0.00      0.00      0.00         1\n",
            "         334       0.00      0.00      0.00         1\n",
            "         342       0.00      0.00      0.00         1\n",
            "         346       0.00      0.00      0.00         1\n",
            "         359       0.00      0.00      0.00         1\n",
            "         372       0.00      0.00      0.00         1\n",
            "         380       0.00      0.00      0.00         1\n",
            "         395       0.00      0.00      0.00         1\n",
            "         396       0.00      0.00      0.00         1\n",
            "         403       0.00      0.00      0.00         1\n",
            "         409       0.00      0.00      0.00         1\n",
            "         416       0.00      0.00      0.00         1\n",
            "         436       0.00      0.00      0.00         1\n",
            "         437       0.00      0.00      0.00         1\n",
            "         439       0.00      0.00      0.00         1\n",
            "         462       0.00      0.00      0.00         1\n",
            "         466       0.00      0.00      0.00         1\n",
            "         477       0.00      0.00      0.00         1\n",
            "         536       0.00      0.00      0.00         1\n",
            "         547       0.00      0.00      0.00         1\n",
            "         550       0.00      0.00      0.00         1\n",
            "         648       0.00      0.00      0.00         1\n",
            "         938       0.00      0.00      0.00         0\n",
            "        1386       0.00      0.00      0.00         2\n",
            "        1641       0.00      0.00      0.00         0\n",
            "\n",
            "    accuracy                           0.07      2858\n",
            "   macro avg       0.01      0.02      0.01      2858\n",
            "weighted avg       0.02      0.07      0.04      2858\n",
            "\n"
          ]
        },
        {
          "output_type": "stream",
          "name": "stderr",
          "text": [
            "/usr/local/lib/python3.10/dist-packages/sklearn/metrics/_classification.py:1344: UndefinedMetricWarning: Precision and F-score are ill-defined and being set to 0.0 in labels with no predicted samples. Use `zero_division` parameter to control this behavior.\n",
            "  _warn_prf(average, modifier, msg_start, len(result))\n",
            "/usr/local/lib/python3.10/dist-packages/sklearn/metrics/_classification.py:1344: UndefinedMetricWarning: Recall and F-score are ill-defined and being set to 0.0 in labels with no true samples. Use `zero_division` parameter to control this behavior.\n",
            "  _warn_prf(average, modifier, msg_start, len(result))\n",
            "/usr/local/lib/python3.10/dist-packages/sklearn/metrics/_classification.py:1344: UndefinedMetricWarning: Precision and F-score are ill-defined and being set to 0.0 in labels with no predicted samples. Use `zero_division` parameter to control this behavior.\n",
            "  _warn_prf(average, modifier, msg_start, len(result))\n",
            "/usr/local/lib/python3.10/dist-packages/sklearn/metrics/_classification.py:1344: UndefinedMetricWarning: Recall and F-score are ill-defined and being set to 0.0 in labels with no true samples. Use `zero_division` parameter to control this behavior.\n",
            "  _warn_prf(average, modifier, msg_start, len(result))\n",
            "/usr/local/lib/python3.10/dist-packages/sklearn/metrics/_classification.py:1344: UndefinedMetricWarning: Precision and F-score are ill-defined and being set to 0.0 in labels with no predicted samples. Use `zero_division` parameter to control this behavior.\n",
            "  _warn_prf(average, modifier, msg_start, len(result))\n",
            "/usr/local/lib/python3.10/dist-packages/sklearn/metrics/_classification.py:1344: UndefinedMetricWarning: Recall and F-score are ill-defined and being set to 0.0 in labels with no true samples. Use `zero_division` parameter to control this behavior.\n",
            "  _warn_prf(average, modifier, msg_start, len(result))\n"
          ]
        }
      ]
    }
  ]
}